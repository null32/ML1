{
  "nbformat": 4,
  "nbformat_minor": 0,
  "metadata": {
    "colab": {
      "name": "ML1.ipynb",
      "provenance": [],
      "collapsed_sections": [],
      "authorship_tag": "ABX9TyOiWK5kBXADaxnegVY5FWRl",
      "include_colab_link": true
    },
    "kernelspec": {
      "name": "python3",
      "display_name": "Python 3"
    }
  },
  "cells": [
    {
      "cell_type": "markdown",
      "metadata": {
        "id": "view-in-github",
        "colab_type": "text"
      },
      "source": [
        "<a href=\"https://colab.research.google.com/github/null32/ML1/blob/master/prac/colab_copy/ML1.ipynb\" target=\"_parent\"><img src=\"https://colab.research.google.com/assets/colab-badge.svg\" alt=\"Open In Colab\"/></a>"
      ]
    },
    {
      "cell_type": "markdown",
      "metadata": {
        "id": "nKGWKHmb8e0t"
      },
      "source": [
        "# Непараметрическая регрессия. Формула Надарая – Ватсона"
      ]
    },
    {
      "cell_type": "markdown",
      "metadata": {
        "id": "f5nozkIU8D4I"
      },
      "source": [
        "Продемонстрирован алгоритм регрессии с использованием форулы Надарая-Ватсона.\n",
        "\n",
        "Использованы два ядра: Гаусово и квартическое.\n",
        "\n",
        "При использовании квартического ядра средняя квадратическая ошибка меньше, чем при использовании Гаус\n"
      ]
    },
    {
      "cell_type": "code",
      "metadata": {
        "id": "zikKXTPE7wSD",
        "outputId": "b8b33f6e-810e-4ebb-8ee7-06c7da44e91c",
        "colab": {
          "base_uri": "https://localhost:8080/",
          "height": 283
        }
      },
      "source": [
        "#!/usr/bin/env python3\n",
        "\n",
        "import math # math.pi, ...\n",
        "import matplotlib.pyplot as plt # visualization\n",
        "\n",
        "def metricDef(x1, x2):\n",
        "\treturn abs(x1 - x2)\n",
        "\n",
        "def kernelGauss(x):\n",
        "\t#return 1 / (2 * math.pi) * math.exp(x * x * (-0.5))\n",
        "\treturn math.exp(x * x * (-0.5))\n",
        "\n",
        "def kernelQuartic(x):\n",
        "\treturn math.pow(1 - x*x, 2) * (1 if abs(x) < 1 else 0)\n",
        "\n",
        "def sse(Y, A):\n",
        "\tassert len(Y) == len(A)\n",
        "\tres = 0\n",
        "\tfor i in range(len(Y)):\n",
        "\t\tres += (Y[i] - A[i]) ** 2\n",
        "\treturn res\n",
        "\n",
        "def NadarayaVatsona(X, Y, kernelFunc, metric, h):\n",
        "\tassert len(X) == len(Y)\n",
        "\tl = len(X)\n",
        "\tres = []\n",
        "\tfor xi in X:\n",
        "\t\tnom = 0\n",
        "\t\tdenom = 0\n",
        "\t\tfor i in range(l):\n",
        "\t\t\tk = kernelFunc(metric(xi, X[i]) / h)\n",
        "\t\t\tnom += Y[i] * k\n",
        "\t\t\tdenom += + k\n",
        "\t\tres.append(nom / denom)\n",
        "\treturn res\n",
        "\n",
        "def main():\n",
        "\tX = [1, 2, 3, 4, 5, 6, 7, 8, 9, 10, 11, 12, 13, 14]\n",
        "\tY = [2, 1, 2, 3, 2, 1.5, 1, 1.5, 2, 2,  3,  2,  2,  1]\n",
        "\n",
        "\tresG = NadarayaVatsona(X, Y, kernelGauss, metricDef, 4)\n",
        "\tresQ = NadarayaVatsona(X, Y, kernelQuartic, metricDef, 4)\n",
        "\t\n",
        "\tplt.plot(X, Y, 'bo', label = 'Xs')\n",
        "\tplt.plot(X, resG, 'r', label = 'Gauss')\n",
        "\tplt.plot(X, resQ, 'g', label = 'Quartic')\n",
        "\tplt.legend(loc = 'upper right')\n",
        "\tplt.show()\n",
        "\n",
        "\terrG = sse(Y, resG)\n",
        "\terrQ = sse(Y, resQ)\n",
        "\n",
        "\tprint(f\"Gauss error: {errG}, Quartic error: {errQ}\")\n",
        "\n",
        "if __name__ == '__main__':\n",
        "\tmain()"
      ],
      "execution_count": null,
      "outputs": [
        {
          "output_type": "display_data",
          "data": {
            "image/png": "[encoded data removed]",
            "text/plain": [
              "<Figure size 432x288 with 1 Axes>"
            ]
          },
          "metadata": {
            "tags": [],
            "needs_background": "light"
          }
        },
        {
          "output_type": "stream",
          "text": [
            "Gauss error: 5.154682455782671, Quartic error: 3.5220328925822195\n"
          ],
          "name": "stdout"
        }
      ]
    },
    {
      "cell_type": "markdown",
      "metadata": {
        "id": "bv688HBfk4-t"
      },
      "source": [
        "# Метод Lowess для непараметрической регрессии\n"
      ]
    },
    {
      "cell_type": "markdown",
      "metadata": {
        "id": "3g13-Wlami3D"
      },
      "source": [
        "Реализован алгоритм lowess для непараметрической регрессии\n",
        "```\n",
        "lowess(X, Y, kernelFunc, metric, h, smoothKernelFunc, iterCount)\n",
        "```\n",
        "X -- объекты,\n",
        "Y -- ответы,\n",
        "kernelFunc -- функция ядра,\n",
        "h -- величина окна,\n",
        "smoothKernelFunc -- функция ядра для сглаживания,\n",
        "iterCount -- количество итераций"
      ]
    },
    {
      "cell_type": "code",
      "metadata": {
        "id": "7mXNJ-h8k2C5",
        "outputId": "a2632296-3d48-44f5-bba2-999343c66f0b",
        "colab": {
          "base_uri": "https://localhost:8080/",
          "height": 320
        }
      },
      "source": [
        "#!/usr/bin/env python3\n",
        "\n",
        "import math # math.pi, ...\n",
        "import matplotlib.pyplot as plt # visualization\n",
        "import random # random\n",
        "import statistics\n",
        "\n",
        "def metricDef(x1, x2):\n",
        "\treturn abs(x1 - x2)\n",
        "\n",
        "def kernelGauss(x):\n",
        "\t#return 1 / (2 * math.pi) * math.exp(x * x * (-0.5))\n",
        "\treturn math.exp(x * x * (-0.5))\n",
        "\n",
        "def kernelQuartic(x):\n",
        "\treturn math.pow(1 - x*x, 2) if abs(x) < 1 else 0\n",
        "\n",
        "def kernelEpach(x):\n",
        "\treturn 3./4*(1 - x*x) if abs(x) < 1 else 0\n",
        "\n",
        "def sse(Y, A):\n",
        "\tassert len(Y) == len(A)\n",
        "\tres = 0\n",
        "\tfor i in range(len(Y)):\n",
        "\t\tres += (Y[i] - A[i]) ** 2\n",
        "\treturn res\n",
        "\n",
        "def NadarayaVatsona(X, Y, kernelFunc, metric, h):\n",
        "\tassert len(X) == len(Y)\n",
        "\tl = len(X)\n",
        "\tres = []\n",
        "\tfor xi in X:\n",
        "\t\tnom = 0\n",
        "\t\tdenom = 0\n",
        "\t\tfor i in range(l):\n",
        "\t\t\tk = kernelFunc(metric(xi, X[i]) / h)\n",
        "\t\t\tnom += Y[i] * k\n",
        "\t\t\tdenom += k\n",
        "\t\tres.append(nom / denom)\n",
        "\treturn res\n",
        "\n",
        "def lowess(X, Y, kernelFunc, metric, h, smoothKernelFunc, iterCount = 3):\n",
        "\tassert len(X) == len(Y)\n",
        "\tl = len(X)\n",
        "\tsmoothing = [1] * l\n",
        "\tres = []\n",
        "\n",
        "\t# iteration count\n",
        "\tfor _ in range(iterCount):\n",
        "\t\tres = []\n",
        "\t\tfor i in range(l):\n",
        "\t\t\tnom = 0\n",
        "\t\t\tdenom = 0\n",
        "\t\t\tfor j in range(l):\n",
        "\t\t\t\tk = kernelFunc(metric(X[i], X[j]) / h)\n",
        "\t\t\t\tnom += Y[j] * k * smoothing[j]\n",
        "\t\t\t\tdenom += k * smoothing[j]\n",
        "\t\t\tres.append(nom / denom)\n",
        "\n",
        "\t\tnewErr = []\n",
        "\t\tfor i in range(l):\n",
        "\t\t\tnom = 0\n",
        "\t\t\tdenom = 0\n",
        "\t\t\tfor j in range(l):\n",
        "\t\t\t\tif i == j:\n",
        "\t\t\t\t\tcontinue\n",
        "\t\t\t\tk = kernelFunc(metric(X[i], X[j]) / h)\n",
        "\t\t\t\tnom += Y[j] * k * smoothing[j]\n",
        "\t\t\t\tdenom += k * smoothing[j]\n",
        "\t\t\terr = abs((nom / denom) - Y[i])\n",
        "\t\t\tnewErr.append(err)\n",
        "\n",
        "\t\tnewSmoothing = [(smoothKernelFunc(newErr[i] / 6 / statistics.median(newErr))) for i in range(l)]\n",
        "\t\tsmoothing = newSmoothing\n",
        "\treturn res\n",
        "\n",
        "def main():\n",
        "\tl = 20\n",
        "\tf = lambda x: 3 - x / 3\n",
        "\tcoef = [0] * l\n",
        "\tcoef[10] = - 10 # выброс\n",
        "\tX = list(range(0, l))\n",
        "\tY = [f(X[i] + random.random() * 2 - 1) + coef[i] for i in range(l)]\n",
        "\n",
        "\tresQ4 = NadarayaVatsona(X, Y, kernelQuartic, metricDef, 4)\n",
        "\n",
        "\tresGQ4 = lowess(X, Y, kernelGauss, metricDef, 4, kernelQuartic)\n",
        "\tresEQ4 = lowess(X, Y, kernelEpach, metricDef, 4, kernelQuartic)\n",
        "\t\n",
        "\tplt.plot(X, Y, 'bo', label = 'Xs')\n",
        "\tplt.plot(X, resQ4, color = \"red\", label = \"Q4\")\n",
        "\tplt.plot(X, resGQ4, color = \"green\", label = \"GQ4\")\n",
        "\tplt.plot(X, resEQ4, color = \"magenta\", label = \"EQ4\")\n",
        "\tplt.legend(loc = 'upper right')\n",
        "\tplt.show()\n",
        "\n",
        "\tprint(f\"Q4 err: {sse(Y, resQ4)}\")\n",
        "\tprint(f\"GQ4 err: {sse(Y, resGQ4)}\")\n",
        "\tprint(f\"EQ4 err: {sse(Y, resEQ4)}\")\n",
        "\n",
        "if __name__ == '__main__':\n",
        "\tmain()"
      ],
      "execution_count": null,
      "outputs": [
        {
          "output_type": "display_data",
          "data": {
            "image/png": "[encoded data removed]",
            "text/plain": [
              "<Figure size 432x288 with 1 Axes>"
            ]
          },
          "metadata": {
            "tags": [],
            "needs_background": "light"
          }
        },
        {
          "output_type": "stream",
          "text": [
            "Q4 err: 67.9776440198284\n",
            "GQ4 err: 103.64121757937352\n",
            "EQ4 err: 97.19552440232115\n"
          ],
          "name": "stdout"
        }
      ]
    },
    {
      "cell_type": "markdown",
      "metadata": {
        "id": "YTZNIYO6nYAU"
      },
      "source": [
        "# Линейная регрессия\n",
        "Реализовано решение нормальной системы для задачи наименьших квадратов.\n",
        "Для демонстрации работы используются реальные данные качества вин. ([источник](https://archive.ics.uci.edu/ml/datasets/Wine+Quality))\n",
        "\n",
        "Продемонстрирована работа алгоритма с 11 характеристиками объекта и с 2.\n",
        "Сжатие характеристик осуществляется при помощи Метода Главных Компонент (PCA).\n",
        "\n",
        "Данные после сжатия визуализированы в двухмерном пространстве.\n",
        "\n",
        "Посчитана средняя ошибка для 11 и 2 характеристик.\n",
        "\n",
        "Качество при 11 заметно лучше, чем при 2."
      ]
    },
    {
      "cell_type": "code",
      "metadata": {
        "id": "qatRJjDinqm3",
        "outputId": "8e40a215-d6b6-49d8-c566-c0c9d6c8c999",
        "colab": {
          "base_uri": "https://localhost:8080/",
          "height": 721
        }
      },
      "source": [
        "#!/usr/bin/env python3\n",
        "\n",
        "import csv\n",
        "import itertools as it\n",
        "import os\n",
        "import numpy as np\n",
        "from sklearn.linear_model import LinearRegression\n",
        "import matplotlib.pyplot as plt\n",
        "\n",
        "def main():\n",
        "    # data_path = 'winequality-white.csv'\n",
        "    data_path = 'winequality-red.csv'\n",
        "    data_file = open(data_path,'r')\n",
        "    data_reader = csv.reader(data_file, delimiter=';')\n",
        "\n",
        "    header = data_reader.__next__()\n",
        "    wine_data = list(map(lambda c: [float(e) for e in c], data_reader))\n",
        "    data_file.close()\n",
        "\n",
        "    X = np.array(list(map(lambda c: c[:-1], wine_data)))\n",
        "    Y = np.array(list(map(lambda c: c[-1], wine_data)))\n",
        "    # print('header: ', header)\n",
        "    coefs_big = solve_system(X, Y)\n",
        "    smallerX = PCA(X, n=2)\n",
        "    coefs_small = solve_system(smallerX, Y)\n",
        "    print(\"Regression function with 11 variables:\\n\\t\", pretty_function(coefs_big))\n",
        "    print(\"Regression function with 2 variables:\\n\\t\", pretty_function(coefs_small))\n",
        "    err_big = quality(X, Y, coefs_big)\n",
        "    err_small = quality(smallerX, Y, coefs_small)\n",
        "    print(f\"Average error for\\n\\t11 vars: {err_big}\\n\\tfor 2 vars: {err_small}\")\n",
        "    visualize(smallerX)\n",
        "\n",
        "def quality(X, Y, a):\n",
        "    assert X.shape[0] == len(Y)\n",
        "    assert X.shape[1] == len(a)\n",
        "    n = len(Y)\n",
        "\n",
        "    err = 0.0\n",
        "    for i in range(n):\n",
        "        err += abs(np.dot(X[i], a) - Y[i])\n",
        "    \n",
        "    return err / n\n",
        "\n",
        "def PCA(X, n=2):\n",
        "    V, D, U = np.linalg.svd(X, full_matrices=False)\n",
        "    left = np.matmul(V[:, 0:n], np.diag(D[0:n]))\n",
        "    res = np.matmul(left, U[0:n, 0:n])\n",
        "\n",
        "    return res\n",
        "\n",
        "def visualize(X):\n",
        "    plt.figure(figsize=(15, 10))\n",
        "    plt.plot(X[:, 0], X[:, 1], '.', color = '#0000FF', label = 'Xs')\n",
        "    plt.legend(loc = 'upper right')\n",
        "    plt.show()\n",
        "\n",
        "def pretty_function(coefs):\n",
        "    res = 'y = '\n",
        "    res += ' + '.join([f'x{i+1} * {coefs[i]:.3f}' for i in range(len(coefs))])\n",
        "    return res\n",
        "\n",
        "def solve_system(X, Y):\n",
        "    res = np.linalg.lstsq(X, Y, rcond=None)\n",
        "    coefs = res[0]\n",
        "\n",
        "    return coefs\n",
        "\n",
        "if __name__ == \"__main__\":\n",
        "    main()\n"
      ],
      "execution_count": 3,
      "outputs": [
        {
          "output_type": "stream",
          "text": [
            "Regression function with 11 variables:\n",
            "\t y = x1 * 0.004 + x2 * -1.100 + x3 * -0.184 + x4 * 0.007 + x5 * -1.911 + x6 * 0.005 + x7 * -0.003 + x8 * 4.529 + x9 * -0.523 + x10 * 0.887 + x11 * 0.297\n",
            "Regression function with 2 variables:\n",
            "\t y = x1 * 0.785 + x2 * -1.654\n",
            "Average error for\n",
            "\t11 vars: 0.5009465274943823\n",
            "\tfor 2 vars: 1.5731834331439125\n"
          ],
          "name": "stdout"
        },
        {
          "output_type": "display_data",
          "data": {
            "image/png": "[encoded data removed]",
            "text/plain": [
              "<Figure size 1080x720 with 1 Axes>"
            ]
          },
          "metadata": {
            "tags": [],
            "needs_background": "light"
          }
        }
      ]
    }
  ]
}